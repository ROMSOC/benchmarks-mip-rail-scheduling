{
 "cells": [
  {
   "cell_type": "markdown",
   "id": "9d374d57-eabf-4660-ac4b-664eb2e4215b",
   "metadata": {},
   "source": [
    "## Benchmarks for MIP rail scheduling\n",
    "\n",
    "This benchmark provides ten test cases for integrated locomotive scheduling and driver rostering problem in rail freight. They are developed in colaboration with DB Cargo Polska S.A.\n",
    "\n",
    "## Description\n",
    "The aim of this benchmark is to provide the basis for comparison of various solution algorithms and approaches against a realistic dataset, reflecting the trains to be performed in February 2020, the available locomotives and drivers, as well as information about the compatibilit. \n",
    "All the benchmark cases are included in the ``instances`` directory. \n",
    "A step-by-step guide on how to use these benchmarks can be found in ``documentation`` directory."
   ]
  },
  {
   "cell_type": "markdown",
   "id": "3c433331-c02d-4332-baec-f2950f23d562",
   "metadata": {},
   "source": [
    "## Running the benchmarks\n",
    "\n",
    "### Choice of instance\n",
    "Navigate to instances directory. From there, navigate to a directory whose\n",
    "name matches the instance you would like to consider."
   ]
  },
  {
   "cell_type": "code",
   "execution_count": 2,
   "id": "6bc1e2b5-b139-457c-a411-2a6b48046ba4",
   "metadata": {},
   "outputs": [
    {
     "name": "stdout",
     "output_type": "stream",
     "text": [
      "/home/jovyan/instances/1W_4\n"
     ]
    }
   ],
   "source": [
    "cd instances/1W_4"
   ]
  },
  {
   "cell_type": "markdown",
   "id": "d8806bd2-d5dd-49ff-8f6d-7adc1d89698b",
   "metadata": {
    "tags": []
   },
   "source": [
    "### Run model construction \n",
    "There are two keywords which need to be supplied when running the\n",
    "scripts:\n",
    "- {weekly,monthly} – determines the scope of the model. If you chose 1M as your instance, use monthly,\n",
    "otherwise use weekly.\n",
    "- {write,nowrite} – determines whether or not the resulting model will be written to an output file\n",
    "``model.lp``."
   ]
  },
  {
   "cell_type": "code",
   "execution_count": 4,
   "id": "f6775ab5-bfa7-4d44-9d89-047ef23f2566",
   "metadata": {},
   "outputs": [
    {
     "name": "stdout",
     "output_type": "stream",
     "text": [
      "Neighborhood set generated in 0.07 seconds\n",
      "Driver set generated in 0.10 seconds\n",
      "Train sets generated, delta generated in 10.19 seconds\n",
      "trains_d_pruned: 0.31\n",
      "long_trains_d_pruned: 0.00\n",
      "trains_time_conflict_d: 0.86\n",
      "trains_break_forward_t_d: 4.81\n",
      "trains_break_35h_t_d: 0.92\n",
      "trains_break_backward_t_d: 4.58\n",
      "trains_week_w_d: 0.07\n",
      "trains_sunday_w_d: 0.12\n",
      "trains_next_t_d: 2.17\n",
      "trains_shift_beginning_t_d & trains_shift_end_t_d: 8.73\n",
      "train_to_week_attribution: 0.02\n",
      "trains_before_after_break_t_d: 5.20\n",
      "Generation of alpha and omega lists took 0.49 seconds\n",
      "Sets generated in 38.97 seconds\n",
      "Restricted license - for non-production use only - expires 2023-10-25\n",
      "C0 613\n",
      "C1 1062\n",
      "C2 35608\n",
      "C3 112\n",
      "C4 112\n",
      "C5 112\n",
      "The whole process took 3.92 seconds.\n",
      "Constraint 1 generated in 0.06 seconds, # of constraints: 613\n",
      "Constraint 3 generated in 1.70 seconds, # of constraints: 156449\n",
      "Constraint 13 generated in 2.01 seconds, # of constraints: 21595\n",
      "Constraint 14 generated in 2.13 seconds, # of constraints: 21448\n",
      "Constraint 15 generated in 0.38 seconds, # of constraints: 213\n",
      "Constraint 16 generated in 0.48 seconds, # of constraints: 213\n",
      "Constraint 17 generated in 0.25 seconds, # of constraints: 22081\n",
      "Constraint 18 generated in 3.29 seconds, # of constraints: 339902\n",
      "Constraint 19 generated in 0.75 seconds, # of constraints: 22081\n",
      "Constraint 20 generated in 3.44 seconds, # of constraints: 339902\n",
      "Constraint 21 generated in 0.70 seconds, # of constraints: 22081\n",
      "Constraint 22 generated in 0.81 seconds, # of constraints: 22081\n",
      "Constraint N1 generated in 3.53 seconds, # of constraints: 16833\n",
      "Constraint N3 generated in 0.97 seconds, # of constraints: 22081\n",
      "Constraint Coupling1 generated in 20.46 seconds,  # of constraints: 22081\n",
      "Constraint Coupling2 generated in 1.87 seconds,  # of constraints: 1630\n",
      "Constraint 24 generated in 7.94 seconds, # of constraints: 775908\n",
      "Constraint 25 generated in 4.40 seconds, # of constraints: 21721\n",
      "Constraints generated in 56.38 seconds\n"
     ]
    }
   ],
   "source": [
    "run main.py weekly nowrite"
   ]
  },
  {
   "cell_type": "code",
   "execution_count": null,
   "id": "7285cbbc-2369-4769-b93f-b8d0f71000ef",
   "metadata": {},
   "outputs": [],
   "source": []
  }
 ],
 "metadata": {
  "kernelspec": {
   "display_name": "Python 3 (ipykernel)",
   "language": "python",
   "name": "python3"
  },
  "language_info": {
   "codemirror_mode": {
    "name": "ipython",
    "version": 3
   },
   "file_extension": ".py",
   "mimetype": "text/x-python",
   "name": "python",
   "nbconvert_exporter": "python",
   "pygments_lexer": "ipython3",
   "version": "3.8.12"
  }
 },
 "nbformat": 4,
 "nbformat_minor": 5
}
